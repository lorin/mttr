{
 "cells": [
  {
   "cell_type": "code",
   "execution_count": 1,
   "id": "fa9c24b5-8b10-46fb-bd25-0a563ccd6fd2",
   "metadata": {},
   "outputs": [
    {
     "data": {
      "text/html": [
       "\n",
       "<style>\n",
       "  #altair-viz-c63f6de7a7934de1a3046cfcfbf81d6b.vega-embed {\n",
       "    width: 100%;\n",
       "    display: flex;\n",
       "  }\n",
       "\n",
       "  #altair-viz-c63f6de7a7934de1a3046cfcfbf81d6b.vega-embed details,\n",
       "  #altair-viz-c63f6de7a7934de1a3046cfcfbf81d6b.vega-embed details summary {\n",
       "    position: relative;\n",
       "  }\n",
       "</style>\n",
       "<div id=\"altair-viz-c63f6de7a7934de1a3046cfcfbf81d6b\"></div>\n",
       "<script type=\"text/javascript\">\n",
       "  var VEGA_DEBUG = (typeof VEGA_DEBUG == \"undefined\") ? {} : VEGA_DEBUG;\n",
       "  (function(spec, embedOpt){\n",
       "    let outputDiv = document.currentScript.previousElementSibling;\n",
       "    if (outputDiv.id !== \"altair-viz-c63f6de7a7934de1a3046cfcfbf81d6b\") {\n",
       "      outputDiv = document.getElementById(\"altair-viz-c63f6de7a7934de1a3046cfcfbf81d6b\");\n",
       "    }\n",
       "\n",
       "    const paths = {\n",
       "      \"vega\": \"https://cdn.jsdelivr.net/npm/vega@5?noext\",\n",
       "      \"vega-lib\": \"https://cdn.jsdelivr.net/npm/vega-lib?noext\",\n",
       "      \"vega-lite\": \"https://cdn.jsdelivr.net/npm/vega-lite@5.20.1?noext\",\n",
       "      \"vega-embed\": \"https://cdn.jsdelivr.net/npm/vega-embed@6?noext\",\n",
       "    };\n",
       "\n",
       "    function maybeLoadScript(lib, version) {\n",
       "      var key = `${lib.replace(\"-\", \"\")}_version`;\n",
       "      return (VEGA_DEBUG[key] == version) ?\n",
       "        Promise.resolve(paths[lib]) :\n",
       "        new Promise(function(resolve, reject) {\n",
       "          var s = document.createElement('script');\n",
       "          document.getElementsByTagName(\"head\")[0].appendChild(s);\n",
       "          s.async = true;\n",
       "          s.onload = () => {\n",
       "            VEGA_DEBUG[key] = version;\n",
       "            return resolve(paths[lib]);\n",
       "          };\n",
       "          s.onerror = () => reject(`Error loading script: ${paths[lib]}`);\n",
       "          s.src = paths[lib];\n",
       "        });\n",
       "    }\n",
       "\n",
       "    function showError(err) {\n",
       "      outputDiv.innerHTML = `<div class=\"error\" style=\"color:red;\">${err}</div>`;\n",
       "      throw err;\n",
       "    }\n",
       "\n",
       "    function displayChart(vegaEmbed) {\n",
       "      vegaEmbed(outputDiv, spec, embedOpt)\n",
       "        .catch(err => showError(`Javascript Error: ${err.message}<br>This usually means there's a typo in your chart specification. See the javascript console for the full traceback.`));\n",
       "    }\n",
       "\n",
       "    if(typeof define === \"function\" && define.amd) {\n",
       "      requirejs.config({paths});\n",
       "      let deps = [\"vega-embed\"];\n",
       "      require(deps, displayChart, err => showError(`Error loading script: ${err.message}`));\n",
       "    } else {\n",
       "      maybeLoadScript(\"vega\", \"5\")\n",
       "        .then(() => maybeLoadScript(\"vega-lite\", \"5.20.1\"))\n",
       "        .then(() => maybeLoadScript(\"vega-embed\", \"6\"))\n",
       "        .catch(showError)\n",
       "        .then(() => displayChart(vegaEmbed));\n",
       "    }\n",
       "  })({\"config\": {\"view\": {\"continuousWidth\": 300, \"continuousHeight\": 300}}, \"layer\": [{\"mark\": {\"type\": \"point\", \"opacity\": 0.7}, \"encoding\": {\"x\": {\"field\": \"x\", \"type\": \"quantitative\"}, \"y\": {\"field\": \"y\", \"type\": \"quantitative\"}}}, {\"mark\": {\"type\": \"line\", \"color\": \"red\"}, \"encoding\": {\"x\": {\"field\": \"x\", \"type\": \"quantitative\"}, \"y\": {\"aggregate\": \"mean\", \"field\": \"y\", \"type\": \"quantitative\"}}}], \"data\": {\"name\": \"data-641915ef224314e134d486f9ac1955e7\"}, \"title\": \"Altair Regression Plot\", \"$schema\": \"https://vega.github.io/schema/vega-lite/v5.20.1.json\", \"datasets\": {\"data-641915ef224314e134d486f9ac1955e7\": [{\"x\": 1, \"y\": 2}, {\"x\": 2, \"y\": 4}, {\"x\": 3, \"y\": 5}, {\"x\": 4, \"y\": 4}, {\"x\": 5, \"y\": 6}, {\"x\": 6, \"y\": 7}, {\"x\": 7, \"y\": 8}, {\"x\": 8, \"y\": 7}, {\"x\": 9, \"y\": 9}, {\"x\": 10, \"y\": 10}]}}, {\"mode\": \"vega-lite\"});\n",
       "</script>"
      ],
      "text/plain": [
       "alt.LayerChart(...)"
      ]
     },
     "execution_count": 1,
     "metadata": {},
     "output_type": "execute_result"
    }
   ],
   "source": [
    "import altair as alt\n",
    "import pandas as pd\n",
    "\n",
    "# Create sample data\n",
    "df = pd.DataFrame({\n",
    "    'x': [1, 2, 3, 4, 5, 6, 7, 8, 9, 10],\n",
    "    'y': [2, 4, 5, 4, 6, 7, 8, 7, 9, 10]\n",
    "})\n",
    "\n",
    "# Create scatter plot with regression line\n",
    "chart = alt.Chart(df).mark_point(opacity=0.7).encode(\n",
    "    x='x',\n",
    "    y='y'\n",
    ") + alt.Chart(df).mark_line(color='red').encode(\n",
    "    x='x',\n",
    "    y=alt.Y('y', aggregate='mean')\n",
    ")\n",
    "\n",
    "chart.properties(title='Altair Regression Plot')"
   ]
  },
  {
   "cell_type": "code",
   "execution_count": 4,
   "id": "2f82c36e-b3b3-4539-b90a-56a78629b965",
   "metadata": {},
   "outputs": [
    {
     "data": {
      "text/plain": [
       "1.160964047443681"
      ]
     },
     "execution_count": 4,
     "metadata": {},
     "output_type": "execute_result"
    }
   ],
   "source": [
    "from math import log\n",
    "log(5) / log(4)"
   ]
  },
  {
   "cell_type": "markdown",
   "id": "87c5c1e8-1e9d-485d-9194-4a786740793f",
   "metadata": {},
   "source": [
    "# Notes\n",
    "\n",
    "I want to compare convergence rates for Poisson and Pareto.\n",
    "\n",
    "I'm going to assume a population mean of 15 minutes (TTR). "
   ]
  }
 ],
 "metadata": {
  "kernelspec": {
   "display_name": "Python 3 (ipykernel)",
   "language": "python",
   "name": "python3"
  },
  "language_info": {
   "codemirror_mode": {
    "name": "ipython",
    "version": 3
   },
   "file_extension": ".py",
   "mimetype": "text/x-python",
   "name": "python",
   "nbconvert_exporter": "python",
   "pygments_lexer": "ipython3",
   "version": "3.13.0"
  }
 },
 "nbformat": 4,
 "nbformat_minor": 5
}
